{
 "cells": [
  {
   "cell_type": "code",
   "execution_count": 79,
   "metadata": {},
   "outputs": [
    {
     "data": {
      "application/vnd.microsoft.datawrangler.viewer.v0+json": {
       "columns": [
        {
         "name": "index",
         "rawType": "int64",
         "type": "integer"
        },
        {
         "name": "User_ID",
         "rawType": "int64",
         "type": "integer"
        },
        {
         "name": "Gender",
         "rawType": "object",
         "type": "string"
        },
        {
         "name": "Age",
         "rawType": "float64",
         "type": "float"
        },
        {
         "name": "Height",
         "rawType": "float64",
         "type": "float"
        },
        {
         "name": "Weight",
         "rawType": "float64",
         "type": "float"
        },
        {
         "name": "Duration",
         "rawType": "float64",
         "type": "float"
        },
        {
         "name": "Heart_Rate",
         "rawType": "float64",
         "type": "float"
        },
        {
         "name": "Body_Temp",
         "rawType": "float64",
         "type": "float"
        },
        {
         "name": "Calories",
         "rawType": "float64",
         "type": "float"
        }
       ],
       "conversionMethod": "pd.DataFrame",
       "ref": "8d3b9e6b-061c-4845-a2f9-983e5a45dbcd",
       "rows": [
        [
         "0",
         "14733363",
         "male",
         "68.0",
         "190.0",
         null,
         "29.0",
         "105.0",
         "40.8",
         "231.0"
        ],
        [
         "1",
         "14861698",
         "female",
         "20.0",
         "166.0",
         "60.0",
         "14.0",
         "94.0",
         "40.3",
         "66.0"
        ],
        [
         "2",
         "11179863",
         "male",
         "69.0",
         "179.0",
         "79.0",
         "5.0",
         "88.0",
         "38.7",
         "26.0"
        ],
        [
         "3",
         "16180408",
         "female",
         "34.0",
         "179.0",
         "71.0",
         "13.0",
         "100.0",
         "40.5",
         "71.0"
        ],
        [
         "4",
         "17771927",
         "female",
         "27.0",
         "154.0",
         "58.0",
         "10.0",
         "81.0",
         "39.8",
         "35.0"
        ],
        [
         "5",
         "15130815",
         "female",
         "36.0",
         "151.0",
         "50.0",
         "23.0",
         "96.0",
         "40.7",
         "123.0"
        ],
        [
         "6",
         "19602372",
         "female",
         "33.0",
         "158.0",
         "56.0",
         "22.0",
         "95.0",
         "40.5",
         "112.0"
        ],
        [
         "7",
         "11117088",
         "male",
         "41.0",
         "175.0",
         "85.0",
         "25.0",
         "100.0",
         "40.7",
         "143.0"
        ],
        [
         "8",
         "12132339",
         "male",
         "60.0",
         "186.0",
         "94.0",
         "21.0",
         "97.0",
         "40.4",
         "134.0"
        ],
        [
         "9",
         "17964668",
         "female",
         "26.0",
         "146.0",
         "51.0",
         "16.0",
         "90.0",
         "40.2",
         "72.0"
        ],
        [
         "10",
         "13723164",
         "female",
         "36.0",
         "177.0",
         "76.0",
         "1.0",
         "74.0",
         "37.8",
         "3.0"
        ],
        [
         "11",
         "13681290",
         "female",
         "21.0",
         "157.0",
         null,
         "17.0",
         "100.0",
         "40.0",
         "92.0"
        ],
        [
         "12",
         "15566424",
         "male",
         null,
         "171.0",
         "79.0",
         "11.0",
         "90.0",
         "40.0",
         "58.0"
        ],
        [
         "13",
         "12891699",
         "female",
         "32.0",
         "157.0",
         "54.0",
         "18.0",
         "93.0",
         "40.4",
         "88.0"
        ],
        [
         "14",
         "13823829",
         "male",
         "53.0",
         "182.0",
         "85.0",
         "2.0",
         "82.0",
         "38.1",
         "7.0"
        ],
        [
         "15",
         "17557348",
         "female",
         "39.0",
         "156.0",
         "62.0",
         "28.0",
         "104.0",
         "40.8",
         "170.0"
        ],
        [
         "16",
         "12198133",
         "male",
         null,
         "182.0",
         "82.0",
         "4.0",
         "82.0",
         "38.6",
         "11.0"
        ],
        [
         "17",
         "15236104",
         "male",
         "46.0",
         "169.0",
         "67.0",
         "11.0",
         "89.0",
         "40.2",
         "43.0"
        ],
        [
         "18",
         "11042324",
         "female",
         "27.0",
         "171.0",
         "65.0",
         "4.0",
         "85.0",
         "38.6",
         "15.0"
        ],
        [
         "19",
         "16864285",
         "male",
         "50.0",
         "188.0",
         "86.0",
         "14.0",
         "94.0",
         "40.2",
         "74.0"
        ],
        [
         "20",
         "11674347",
         "male",
         "67.0",
         "189.0",
         "93.0",
         "8.0",
         "77.0",
         "39.2",
         "29.0"
        ],
        [
         "21",
         "19797300",
         "female",
         "31.0",
         "148.0",
         "50.0",
         "8.0",
         "84.0",
         "39.5",
         "32.0"
        ],
        [
         "22",
         "14711095",
         "female",
         "33.0",
         "157.0",
         "60.0",
         "3.0",
         "80.0",
         "38.7",
         "10.0"
        ],
        [
         "23",
         "14434854",
         "female",
         "20.0",
         "165.0",
         "59.0",
         "29.0",
         "100.0",
         "41.0",
         "155.0"
        ],
        [
         "24",
         "14893804",
         "male",
         "48.0",
         "182.0",
         "85.0",
         "1.0",
         "80.0",
         "37.7",
         "3.0"
        ],
        [
         "25",
         "17231597",
         "male",
         "29.0",
         "176.0",
         "75.0",
         "10.0",
         "83.0",
         "39.7",
         "24.0"
        ],
        [
         "26",
         "10901446",
         "male",
         null,
         "173.0",
         "73.0",
         "7.0",
         "78.0",
         "39.3",
         "12.0"
        ],
        [
         "27",
         "15874362",
         "male",
         "42.0",
         "190.0",
         "88.0",
         "3.0",
         "83.0",
         "38.9",
         "10.0"
        ],
        [
         "28",
         "15569252",
         "female",
         "62.0",
         "159.0",
         "59.0",
         "29.0",
         "106.0",
         "41.2",
         "195.0"
        ],
        [
         "29",
         "15615743",
         "male",
         "38.0",
         "171.0",
         "75.0",
         "2.0",
         "81.0",
         "38.2",
         "5.0"
        ],
        [
         "30",
         "13363046",
         "male",
         "20.0",
         "183.0",
         "88.0",
         "16.0",
         "97.0",
         "40.5",
         "69.0"
        ],
        [
         "31",
         "17572853",
         "female",
         "25.0",
         "160.0",
         "59.0",
         "24.0",
         "102.0",
         "40.3",
         "136.0"
        ],
        [
         "32",
         "17157339",
         "female",
         "24.0",
         "165.0",
         "59.0",
         "18.0",
         "91.0",
         "40.2",
         "80.0"
        ],
        [
         "33",
         "18328111",
         "female",
         "42.0",
         "165.0",
         "68.0",
         "22.0",
         "93.0",
         "40.8",
         "107.0"
        ],
        [
         "34",
         "19303479",
         "male",
         "22.0",
         "182.0",
         "84.0",
         "29.0",
         "114.0",
         "41.0",
         "200.0"
        ],
        [
         "35",
         "10699201",
         "female",
         "74.0",
         "158.0",
         "59.0",
         "10.0",
         "93.0",
         "39.6",
         "56.0"
        ],
        [
         "36",
         "15283313",
         "female",
         "70.0",
         "154.0",
         "59.0",
         "10.0",
         "88.0",
         "40.0",
         "50.0"
        ],
        [
         "37",
         "16324247",
         "female",
         "26.0",
         "182.0",
         "80.0",
         "21.0",
         "96.0",
         "40.5",
         "100.0"
        ],
        [
         "38",
         "14277710",
         "male",
         "44.0",
         "184.0",
         "86.0",
         "25.0",
         "114.0",
         "40.8",
         "200.0"
        ],
        [
         "39",
         "10888188",
         "male",
         "61.0",
         "183.0",
         "86.0",
         "1.0",
         "81.0",
         "38.3",
         "4.0"
        ],
        [
         "40",
         "13379795",
         "female",
         "68.0",
         "157.0",
         "57.0",
         "13.0",
         "92.0",
         "40.1",
         "70.0"
        ],
        [
         "41",
         "17181524",
         "female",
         "61.0",
         "176.0",
         "70.0",
         "20.0",
         "104.0",
         "40.5",
         "127.0"
        ],
        [
         "42",
         "15988442",
         "male",
         "63.0",
         "179.0",
         "80.0",
         "25.0",
         "108.0",
         "40.8",
         "197.0"
        ],
        [
         "43",
         "19538533",
         "female",
         "54.0",
         "171.0",
         "66.0",
         "20.0",
         "98.0",
         "40.1",
         "113.0"
        ],
        [
         "44",
         "14591877",
         "female",
         "54.0",
         "169.0",
         "66.0",
         "3.0",
         "80.0",
         "38.9",
         "11.0"
        ],
        [
         "45",
         "14274480",
         "female",
         null,
         "155.0",
         "55.0",
         "16.0",
         "93.0",
         "40.5",
         "82.0"
        ],
        [
         "46",
         "16818429",
         "male",
         "33.0",
         "184.0",
         "86.0",
         "8.0",
         "86.0",
         "39.9",
         "26.0"
        ],
        [
         "47",
         "17476522",
         "female",
         "24.0",
         "171.0",
         "66.0",
         "24.0",
         "105.0",
         "40.6",
         "141.0"
        ],
        [
         "48",
         "16369885",
         "male",
         "24.0",
         "195.0",
         "98.0",
         "20.0",
         "96.0",
         "40.6",
         "92.0"
        ],
        [
         "49",
         "17816292",
         "male",
         "48.0",
         "152.0",
         "59.0",
         "2.0",
         "79.0",
         "38.0",
         "5.0"
        ]
       ],
       "shape": {
        "columns": 9,
        "rows": 15000
       }
      },
      "text/html": [
       "<div>\n",
       "<style scoped>\n",
       "    .dataframe tbody tr th:only-of-type {\n",
       "        vertical-align: middle;\n",
       "    }\n",
       "\n",
       "    .dataframe tbody tr th {\n",
       "        vertical-align: top;\n",
       "    }\n",
       "\n",
       "    .dataframe thead th {\n",
       "        text-align: right;\n",
       "    }\n",
       "</style>\n",
       "<table border=\"1\" class=\"dataframe\">\n",
       "  <thead>\n",
       "    <tr style=\"text-align: right;\">\n",
       "      <th></th>\n",
       "      <th>User_ID</th>\n",
       "      <th>Gender</th>\n",
       "      <th>Age</th>\n",
       "      <th>Height</th>\n",
       "      <th>Weight</th>\n",
       "      <th>Duration</th>\n",
       "      <th>Heart_Rate</th>\n",
       "      <th>Body_Temp</th>\n",
       "      <th>Calories</th>\n",
       "    </tr>\n",
       "  </thead>\n",
       "  <tbody>\n",
       "    <tr>\n",
       "      <th>0</th>\n",
       "      <td>14733363</td>\n",
       "      <td>male</td>\n",
       "      <td>68.0</td>\n",
       "      <td>190.0</td>\n",
       "      <td>NaN</td>\n",
       "      <td>29.0</td>\n",
       "      <td>105.0</td>\n",
       "      <td>40.8</td>\n",
       "      <td>231.0</td>\n",
       "    </tr>\n",
       "    <tr>\n",
       "      <th>1</th>\n",
       "      <td>14861698</td>\n",
       "      <td>female</td>\n",
       "      <td>20.0</td>\n",
       "      <td>166.0</td>\n",
       "      <td>60.0</td>\n",
       "      <td>14.0</td>\n",
       "      <td>94.0</td>\n",
       "      <td>40.3</td>\n",
       "      <td>66.0</td>\n",
       "    </tr>\n",
       "    <tr>\n",
       "      <th>2</th>\n",
       "      <td>11179863</td>\n",
       "      <td>male</td>\n",
       "      <td>69.0</td>\n",
       "      <td>179.0</td>\n",
       "      <td>79.0</td>\n",
       "      <td>5.0</td>\n",
       "      <td>88.0</td>\n",
       "      <td>38.7</td>\n",
       "      <td>26.0</td>\n",
       "    </tr>\n",
       "    <tr>\n",
       "      <th>3</th>\n",
       "      <td>16180408</td>\n",
       "      <td>female</td>\n",
       "      <td>34.0</td>\n",
       "      <td>179.0</td>\n",
       "      <td>71.0</td>\n",
       "      <td>13.0</td>\n",
       "      <td>100.0</td>\n",
       "      <td>40.5</td>\n",
       "      <td>71.0</td>\n",
       "    </tr>\n",
       "    <tr>\n",
       "      <th>4</th>\n",
       "      <td>17771927</td>\n",
       "      <td>female</td>\n",
       "      <td>27.0</td>\n",
       "      <td>154.0</td>\n",
       "      <td>58.0</td>\n",
       "      <td>10.0</td>\n",
       "      <td>81.0</td>\n",
       "      <td>39.8</td>\n",
       "      <td>35.0</td>\n",
       "    </tr>\n",
       "    <tr>\n",
       "      <th>...</th>\n",
       "      <td>...</td>\n",
       "      <td>...</td>\n",
       "      <td>...</td>\n",
       "      <td>...</td>\n",
       "      <td>...</td>\n",
       "      <td>...</td>\n",
       "      <td>...</td>\n",
       "      <td>...</td>\n",
       "      <td>...</td>\n",
       "    </tr>\n",
       "    <tr>\n",
       "      <th>14995</th>\n",
       "      <td>15644082</td>\n",
       "      <td>female</td>\n",
       "      <td>20.0</td>\n",
       "      <td>193.0</td>\n",
       "      <td>86.0</td>\n",
       "      <td>11.0</td>\n",
       "      <td>92.0</td>\n",
       "      <td>40.4</td>\n",
       "      <td>45.0</td>\n",
       "    </tr>\n",
       "    <tr>\n",
       "      <th>14996</th>\n",
       "      <td>17212577</td>\n",
       "      <td>female</td>\n",
       "      <td>27.0</td>\n",
       "      <td>165.0</td>\n",
       "      <td>65.0</td>\n",
       "      <td>6.0</td>\n",
       "      <td>85.0</td>\n",
       "      <td>39.2</td>\n",
       "      <td>23.0</td>\n",
       "    </tr>\n",
       "    <tr>\n",
       "      <th>14997</th>\n",
       "      <td>17271188</td>\n",
       "      <td>female</td>\n",
       "      <td>43.0</td>\n",
       "      <td>159.0</td>\n",
       "      <td>58.0</td>\n",
       "      <td>16.0</td>\n",
       "      <td>90.0</td>\n",
       "      <td>40.1</td>\n",
       "      <td>75.0</td>\n",
       "    </tr>\n",
       "    <tr>\n",
       "      <th>14998</th>\n",
       "      <td>18643037</td>\n",
       "      <td>male</td>\n",
       "      <td>78.0</td>\n",
       "      <td>193.0</td>\n",
       "      <td>97.0</td>\n",
       "      <td>2.0</td>\n",
       "      <td>84.0</td>\n",
       "      <td>38.3</td>\n",
       "      <td>11.0</td>\n",
       "    </tr>\n",
       "    <tr>\n",
       "      <th>14999</th>\n",
       "      <td>11751526</td>\n",
       "      <td>male</td>\n",
       "      <td>63.0</td>\n",
       "      <td>173.0</td>\n",
       "      <td>79.0</td>\n",
       "      <td>18.0</td>\n",
       "      <td>92.0</td>\n",
       "      <td>40.5</td>\n",
       "      <td>98.0</td>\n",
       "    </tr>\n",
       "  </tbody>\n",
       "</table>\n",
       "<p>15000 rows × 9 columns</p>\n",
       "</div>"
      ],
      "text/plain": [
       "        User_ID  Gender   Age  Height  Weight  Duration  Heart_Rate  \\\n",
       "0      14733363    male  68.0   190.0     NaN      29.0       105.0   \n",
       "1      14861698  female  20.0   166.0    60.0      14.0        94.0   \n",
       "2      11179863    male  69.0   179.0    79.0       5.0        88.0   \n",
       "3      16180408  female  34.0   179.0    71.0      13.0       100.0   \n",
       "4      17771927  female  27.0   154.0    58.0      10.0        81.0   \n",
       "...         ...     ...   ...     ...     ...       ...         ...   \n",
       "14995  15644082  female  20.0   193.0    86.0      11.0        92.0   \n",
       "14996  17212577  female  27.0   165.0    65.0       6.0        85.0   \n",
       "14997  17271188  female  43.0   159.0    58.0      16.0        90.0   \n",
       "14998  18643037    male  78.0   193.0    97.0       2.0        84.0   \n",
       "14999  11751526    male  63.0   173.0    79.0      18.0        92.0   \n",
       "\n",
       "       Body_Temp  Calories  \n",
       "0           40.8     231.0  \n",
       "1           40.3      66.0  \n",
       "2           38.7      26.0  \n",
       "3           40.5      71.0  \n",
       "4           39.8      35.0  \n",
       "...          ...       ...  \n",
       "14995       40.4      45.0  \n",
       "14996       39.2      23.0  \n",
       "14997       40.1      75.0  \n",
       "14998       38.3      11.0  \n",
       "14999       40.5      98.0  \n",
       "\n",
       "[15000 rows x 9 columns]"
      ]
     },
     "execution_count": 79,
     "metadata": {},
     "output_type": "execute_result"
    }
   ],
   "source": [
    "import numpy as np\n",
    "import pandas as pd\n",
    "import matplotlib.pyplot as plt\n",
    "import seaborn as sns\n",
    "df=pd.read_csv('calories_data.csv')\n",
    "df"
   ]
  },
  {
   "cell_type": "code",
   "execution_count": 80,
   "metadata": {},
   "outputs": [
    {
     "data": {
      "application/vnd.microsoft.datawrangler.viewer.v0+json": {
       "columns": [
        {
         "name": "index",
         "rawType": "int64",
         "type": "integer"
        },
        {
         "name": "User_ID",
         "rawType": "int64",
         "type": "integer"
        },
        {
         "name": "Gender",
         "rawType": "object",
         "type": "string"
        },
        {
         "name": "Age",
         "rawType": "float64",
         "type": "float"
        },
        {
         "name": "Height",
         "rawType": "float64",
         "type": "float"
        },
        {
         "name": "Weight",
         "rawType": "float64",
         "type": "float"
        },
        {
         "name": "Duration",
         "rawType": "float64",
         "type": "float"
        },
        {
         "name": "Heart_Rate",
         "rawType": "float64",
         "type": "float"
        },
        {
         "name": "Body_Temp",
         "rawType": "float64",
         "type": "float"
        },
        {
         "name": "Calories",
         "rawType": "float64",
         "type": "float"
        }
       ],
       "conversionMethod": "pd.DataFrame",
       "ref": "dc79dc4c-8e41-40a4-b506-d47fc6810146",
       "rows": [
        [
         "0",
         "14733363",
         "male",
         "68.0",
         "190.0",
         null,
         "29.0",
         "105.0",
         "40.8",
         "231.0"
        ],
        [
         "1",
         "14861698",
         "female",
         "20.0",
         "166.0",
         "60.0",
         "14.0",
         "94.0",
         "40.3",
         "66.0"
        ],
        [
         "2",
         "11179863",
         "male",
         "69.0",
         "179.0",
         "79.0",
         "5.0",
         "88.0",
         "38.7",
         "26.0"
        ],
        [
         "3",
         "16180408",
         "female",
         "34.0",
         "179.0",
         "71.0",
         "13.0",
         "100.0",
         "40.5",
         "71.0"
        ],
        [
         "4",
         "17771927",
         "female",
         "27.0",
         "154.0",
         "58.0",
         "10.0",
         "81.0",
         "39.8",
         "35.0"
        ]
       ],
       "shape": {
        "columns": 9,
        "rows": 5
       }
      },
      "text/html": [
       "<div>\n",
       "<style scoped>\n",
       "    .dataframe tbody tr th:only-of-type {\n",
       "        vertical-align: middle;\n",
       "    }\n",
       "\n",
       "    .dataframe tbody tr th {\n",
       "        vertical-align: top;\n",
       "    }\n",
       "\n",
       "    .dataframe thead th {\n",
       "        text-align: right;\n",
       "    }\n",
       "</style>\n",
       "<table border=\"1\" class=\"dataframe\">\n",
       "  <thead>\n",
       "    <tr style=\"text-align: right;\">\n",
       "      <th></th>\n",
       "      <th>User_ID</th>\n",
       "      <th>Gender</th>\n",
       "      <th>Age</th>\n",
       "      <th>Height</th>\n",
       "      <th>Weight</th>\n",
       "      <th>Duration</th>\n",
       "      <th>Heart_Rate</th>\n",
       "      <th>Body_Temp</th>\n",
       "      <th>Calories</th>\n",
       "    </tr>\n",
       "  </thead>\n",
       "  <tbody>\n",
       "    <tr>\n",
       "      <th>0</th>\n",
       "      <td>14733363</td>\n",
       "      <td>male</td>\n",
       "      <td>68.0</td>\n",
       "      <td>190.0</td>\n",
       "      <td>NaN</td>\n",
       "      <td>29.0</td>\n",
       "      <td>105.0</td>\n",
       "      <td>40.8</td>\n",
       "      <td>231.0</td>\n",
       "    </tr>\n",
       "    <tr>\n",
       "      <th>1</th>\n",
       "      <td>14861698</td>\n",
       "      <td>female</td>\n",
       "      <td>20.0</td>\n",
       "      <td>166.0</td>\n",
       "      <td>60.0</td>\n",
       "      <td>14.0</td>\n",
       "      <td>94.0</td>\n",
       "      <td>40.3</td>\n",
       "      <td>66.0</td>\n",
       "    </tr>\n",
       "    <tr>\n",
       "      <th>2</th>\n",
       "      <td>11179863</td>\n",
       "      <td>male</td>\n",
       "      <td>69.0</td>\n",
       "      <td>179.0</td>\n",
       "      <td>79.0</td>\n",
       "      <td>5.0</td>\n",
       "      <td>88.0</td>\n",
       "      <td>38.7</td>\n",
       "      <td>26.0</td>\n",
       "    </tr>\n",
       "    <tr>\n",
       "      <th>3</th>\n",
       "      <td>16180408</td>\n",
       "      <td>female</td>\n",
       "      <td>34.0</td>\n",
       "      <td>179.0</td>\n",
       "      <td>71.0</td>\n",
       "      <td>13.0</td>\n",
       "      <td>100.0</td>\n",
       "      <td>40.5</td>\n",
       "      <td>71.0</td>\n",
       "    </tr>\n",
       "    <tr>\n",
       "      <th>4</th>\n",
       "      <td>17771927</td>\n",
       "      <td>female</td>\n",
       "      <td>27.0</td>\n",
       "      <td>154.0</td>\n",
       "      <td>58.0</td>\n",
       "      <td>10.0</td>\n",
       "      <td>81.0</td>\n",
       "      <td>39.8</td>\n",
       "      <td>35.0</td>\n",
       "    </tr>\n",
       "  </tbody>\n",
       "</table>\n",
       "</div>"
      ],
      "text/plain": [
       "    User_ID  Gender   Age  Height  Weight  Duration  Heart_Rate  Body_Temp  \\\n",
       "0  14733363    male  68.0   190.0     NaN      29.0       105.0       40.8   \n",
       "1  14861698  female  20.0   166.0    60.0      14.0        94.0       40.3   \n",
       "2  11179863    male  69.0   179.0    79.0       5.0        88.0       38.7   \n",
       "3  16180408  female  34.0   179.0    71.0      13.0       100.0       40.5   \n",
       "4  17771927  female  27.0   154.0    58.0      10.0        81.0       39.8   \n",
       "\n",
       "   Calories  \n",
       "0     231.0  \n",
       "1      66.0  \n",
       "2      26.0  \n",
       "3      71.0  \n",
       "4      35.0  "
      ]
     },
     "execution_count": 80,
     "metadata": {},
     "output_type": "execute_result"
    }
   ],
   "source": [
    "df.head()"
   ]
  },
  {
   "cell_type": "code",
   "execution_count": 81,
   "metadata": {},
   "outputs": [
    {
     "data": {
      "application/vnd.microsoft.datawrangler.viewer.v0+json": {
       "columns": [
        {
         "name": "index",
         "rawType": "int64",
         "type": "integer"
        },
        {
         "name": "User_ID",
         "rawType": "int64",
         "type": "integer"
        },
        {
         "name": "Gender",
         "rawType": "object",
         "type": "string"
        },
        {
         "name": "Age",
         "rawType": "float64",
         "type": "float"
        },
        {
         "name": "Height",
         "rawType": "float64",
         "type": "float"
        },
        {
         "name": "Weight",
         "rawType": "float64",
         "type": "float"
        },
        {
         "name": "Duration",
         "rawType": "float64",
         "type": "float"
        },
        {
         "name": "Heart_Rate",
         "rawType": "float64",
         "type": "float"
        },
        {
         "name": "Body_Temp",
         "rawType": "float64",
         "type": "float"
        },
        {
         "name": "Calories",
         "rawType": "float64",
         "type": "float"
        }
       ],
       "conversionMethod": "pd.DataFrame",
       "ref": "51c8baff-f60b-42e5-9dc8-dc2687b1fab9",
       "rows": [
        [
         "14995",
         "15644082",
         "female",
         "20.0",
         "193.0",
         "86.0",
         "11.0",
         "92.0",
         "40.4",
         "45.0"
        ],
        [
         "14996",
         "17212577",
         "female",
         "27.0",
         "165.0",
         "65.0",
         "6.0",
         "85.0",
         "39.2",
         "23.0"
        ],
        [
         "14997",
         "17271188",
         "female",
         "43.0",
         "159.0",
         "58.0",
         "16.0",
         "90.0",
         "40.1",
         "75.0"
        ],
        [
         "14998",
         "18643037",
         "male",
         "78.0",
         "193.0",
         "97.0",
         "2.0",
         "84.0",
         "38.3",
         "11.0"
        ],
        [
         "14999",
         "11751526",
         "male",
         "63.0",
         "173.0",
         "79.0",
         "18.0",
         "92.0",
         "40.5",
         "98.0"
        ]
       ],
       "shape": {
        "columns": 9,
        "rows": 5
       }
      },
      "text/html": [
       "<div>\n",
       "<style scoped>\n",
       "    .dataframe tbody tr th:only-of-type {\n",
       "        vertical-align: middle;\n",
       "    }\n",
       "\n",
       "    .dataframe tbody tr th {\n",
       "        vertical-align: top;\n",
       "    }\n",
       "\n",
       "    .dataframe thead th {\n",
       "        text-align: right;\n",
       "    }\n",
       "</style>\n",
       "<table border=\"1\" class=\"dataframe\">\n",
       "  <thead>\n",
       "    <tr style=\"text-align: right;\">\n",
       "      <th></th>\n",
       "      <th>User_ID</th>\n",
       "      <th>Gender</th>\n",
       "      <th>Age</th>\n",
       "      <th>Height</th>\n",
       "      <th>Weight</th>\n",
       "      <th>Duration</th>\n",
       "      <th>Heart_Rate</th>\n",
       "      <th>Body_Temp</th>\n",
       "      <th>Calories</th>\n",
       "    </tr>\n",
       "  </thead>\n",
       "  <tbody>\n",
       "    <tr>\n",
       "      <th>14995</th>\n",
       "      <td>15644082</td>\n",
       "      <td>female</td>\n",
       "      <td>20.0</td>\n",
       "      <td>193.0</td>\n",
       "      <td>86.0</td>\n",
       "      <td>11.0</td>\n",
       "      <td>92.0</td>\n",
       "      <td>40.4</td>\n",
       "      <td>45.0</td>\n",
       "    </tr>\n",
       "    <tr>\n",
       "      <th>14996</th>\n",
       "      <td>17212577</td>\n",
       "      <td>female</td>\n",
       "      <td>27.0</td>\n",
       "      <td>165.0</td>\n",
       "      <td>65.0</td>\n",
       "      <td>6.0</td>\n",
       "      <td>85.0</td>\n",
       "      <td>39.2</td>\n",
       "      <td>23.0</td>\n",
       "    </tr>\n",
       "    <tr>\n",
       "      <th>14997</th>\n",
       "      <td>17271188</td>\n",
       "      <td>female</td>\n",
       "      <td>43.0</td>\n",
       "      <td>159.0</td>\n",
       "      <td>58.0</td>\n",
       "      <td>16.0</td>\n",
       "      <td>90.0</td>\n",
       "      <td>40.1</td>\n",
       "      <td>75.0</td>\n",
       "    </tr>\n",
       "    <tr>\n",
       "      <th>14998</th>\n",
       "      <td>18643037</td>\n",
       "      <td>male</td>\n",
       "      <td>78.0</td>\n",
       "      <td>193.0</td>\n",
       "      <td>97.0</td>\n",
       "      <td>2.0</td>\n",
       "      <td>84.0</td>\n",
       "      <td>38.3</td>\n",
       "      <td>11.0</td>\n",
       "    </tr>\n",
       "    <tr>\n",
       "      <th>14999</th>\n",
       "      <td>11751526</td>\n",
       "      <td>male</td>\n",
       "      <td>63.0</td>\n",
       "      <td>173.0</td>\n",
       "      <td>79.0</td>\n",
       "      <td>18.0</td>\n",
       "      <td>92.0</td>\n",
       "      <td>40.5</td>\n",
       "      <td>98.0</td>\n",
       "    </tr>\n",
       "  </tbody>\n",
       "</table>\n",
       "</div>"
      ],
      "text/plain": [
       "        User_ID  Gender   Age  Height  Weight  Duration  Heart_Rate  \\\n",
       "14995  15644082  female  20.0   193.0    86.0      11.0        92.0   \n",
       "14996  17212577  female  27.0   165.0    65.0       6.0        85.0   \n",
       "14997  17271188  female  43.0   159.0    58.0      16.0        90.0   \n",
       "14998  18643037    male  78.0   193.0    97.0       2.0        84.0   \n",
       "14999  11751526    male  63.0   173.0    79.0      18.0        92.0   \n",
       "\n",
       "       Body_Temp  Calories  \n",
       "14995       40.4      45.0  \n",
       "14996       39.2      23.0  \n",
       "14997       40.1      75.0  \n",
       "14998       38.3      11.0  \n",
       "14999       40.5      98.0  "
      ]
     },
     "execution_count": 81,
     "metadata": {},
     "output_type": "execute_result"
    }
   ],
   "source": [
    "df.tail()"
   ]
  },
  {
   "cell_type": "code",
   "execution_count": 82,
   "metadata": {},
   "outputs": [
    {
     "data": {
      "text/plain": [
       "Index(['User_ID', 'Gender', 'Age', 'Height', 'Weight', 'Duration',\n",
       "       'Heart_Rate', 'Body_Temp', 'Calories'],\n",
       "      dtype='object')"
      ]
     },
     "execution_count": 82,
     "metadata": {},
     "output_type": "execute_result"
    }
   ],
   "source": [
    "df.columns"
   ]
  },
  {
   "cell_type": "code",
   "execution_count": 83,
   "metadata": {},
   "outputs": [
    {
     "data": {
      "text/plain": [
       "User_ID         int64\n",
       "Gender         object\n",
       "Age           float64\n",
       "Height        float64\n",
       "Weight        float64\n",
       "Duration      float64\n",
       "Heart_Rate    float64\n",
       "Body_Temp     float64\n",
       "Calories      float64\n",
       "dtype: object"
      ]
     },
     "execution_count": 83,
     "metadata": {},
     "output_type": "execute_result"
    }
   ],
   "source": [
    "df.dtypes"
   ]
  },
  {
   "cell_type": "code",
   "execution_count": 84,
   "metadata": {},
   "outputs": [
    {
     "data": {
      "text/plain": [
       "(15000, 9)"
      ]
     },
     "execution_count": 84,
     "metadata": {},
     "output_type": "execute_result"
    }
   ],
   "source": [
    "df.shape"
   ]
  },
  {
   "cell_type": "code",
   "execution_count": 85,
   "metadata": {},
   "outputs": [
    {
     "name": "stdout",
     "output_type": "stream",
     "text": [
      "<class 'pandas.core.frame.DataFrame'>\n",
      "RangeIndex: 15000 entries, 0 to 14999\n",
      "Data columns (total 9 columns):\n",
      " #   Column      Non-Null Count  Dtype  \n",
      "---  ------      --------------  -----  \n",
      " 0   User_ID     15000 non-null  int64  \n",
      " 1   Gender      15000 non-null  object \n",
      " 2   Age         14979 non-null  float64\n",
      " 3   Height      15000 non-null  float64\n",
      " 4   Weight      14986 non-null  float64\n",
      " 5   Duration    15000 non-null  float64\n",
      " 6   Heart_Rate  15000 non-null  float64\n",
      " 7   Body_Temp   15000 non-null  float64\n",
      " 8   Calories    15000 non-null  float64\n",
      "dtypes: float64(7), int64(1), object(1)\n",
      "memory usage: 1.0+ MB\n"
     ]
    }
   ],
   "source": [
    "df.info()"
   ]
  },
  {
   "cell_type": "code",
   "execution_count": 86,
   "metadata": {},
   "outputs": [
    {
     "data": {
      "application/vnd.microsoft.datawrangler.viewer.v0+json": {
       "columns": [
        {
         "name": "index",
         "rawType": "object",
         "type": "string"
        },
        {
         "name": "User_ID",
         "rawType": "float64",
         "type": "float"
        },
        {
         "name": "Age",
         "rawType": "float64",
         "type": "float"
        },
        {
         "name": "Height",
         "rawType": "float64",
         "type": "float"
        },
        {
         "name": "Weight",
         "rawType": "float64",
         "type": "float"
        },
        {
         "name": "Duration",
         "rawType": "float64",
         "type": "float"
        },
        {
         "name": "Heart_Rate",
         "rawType": "float64",
         "type": "float"
        },
        {
         "name": "Body_Temp",
         "rawType": "float64",
         "type": "float"
        },
        {
         "name": "Calories",
         "rawType": "float64",
         "type": "float"
        }
       ],
       "conversionMethod": "pd.DataFrame",
       "ref": "342c93c3-79e6-413d-8935-fd318055d0dc",
       "rows": [
        [
         "count",
         "15000.0",
         "14979.0",
         "15000.0",
         "14986.0",
         "15000.0",
         "15000.0",
         "15000.0",
         "15000.0"
        ],
        [
         "mean",
         "14977358.538466666",
         "42.77495159890513",
         "174.46513333333334",
         "74.96450020018685",
         "15.5306",
         "95.51853333333334",
         "40.02545333333334",
         "89.53953333333334"
        ],
        [
         "std",
         "2872851.4522327",
         "16.974280816268198",
         "14.258113616551187",
         "15.03727126623159",
         "8.319203342244775",
         "9.583328189839296",
         "0.7792299239893948",
         "62.45697795593845"
        ],
        [
         "min",
         "10001159.0",
         "20.0",
         "123.0",
         "36.0",
         "1.0",
         "67.0",
         "37.1",
         "1.0"
        ],
        [
         "25%",
         "12474190.75",
         "28.0",
         "164.0",
         "63.0",
         "8.0",
         "88.0",
         "39.6",
         "35.0"
        ],
        [
         "50%",
         "14997285.0",
         "39.0",
         "175.0",
         "74.0",
         "16.0",
         "96.0",
         "40.2",
         "79.0"
        ],
        [
         "75%",
         "17449278.75",
         "56.0",
         "185.0",
         "87.0",
         "23.0",
         "103.0",
         "40.6",
         "138.0"
        ],
        [
         "max",
         "19999647.0",
         "79.0",
         "222.0",
         "132.0",
         "30.0",
         "128.0",
         "41.5",
         "314.0"
        ]
       ],
       "shape": {
        "columns": 8,
        "rows": 8
       }
      },
      "text/html": [
       "<div>\n",
       "<style scoped>\n",
       "    .dataframe tbody tr th:only-of-type {\n",
       "        vertical-align: middle;\n",
       "    }\n",
       "\n",
       "    .dataframe tbody tr th {\n",
       "        vertical-align: top;\n",
       "    }\n",
       "\n",
       "    .dataframe thead th {\n",
       "        text-align: right;\n",
       "    }\n",
       "</style>\n",
       "<table border=\"1\" class=\"dataframe\">\n",
       "  <thead>\n",
       "    <tr style=\"text-align: right;\">\n",
       "      <th></th>\n",
       "      <th>User_ID</th>\n",
       "      <th>Age</th>\n",
       "      <th>Height</th>\n",
       "      <th>Weight</th>\n",
       "      <th>Duration</th>\n",
       "      <th>Heart_Rate</th>\n",
       "      <th>Body_Temp</th>\n",
       "      <th>Calories</th>\n",
       "    </tr>\n",
       "  </thead>\n",
       "  <tbody>\n",
       "    <tr>\n",
       "      <th>count</th>\n",
       "      <td>1.500000e+04</td>\n",
       "      <td>14979.000000</td>\n",
       "      <td>15000.000000</td>\n",
       "      <td>14986.000000</td>\n",
       "      <td>15000.000000</td>\n",
       "      <td>15000.000000</td>\n",
       "      <td>15000.000000</td>\n",
       "      <td>15000.000000</td>\n",
       "    </tr>\n",
       "    <tr>\n",
       "      <th>mean</th>\n",
       "      <td>1.497736e+07</td>\n",
       "      <td>42.774952</td>\n",
       "      <td>174.465133</td>\n",
       "      <td>74.964500</td>\n",
       "      <td>15.530600</td>\n",
       "      <td>95.518533</td>\n",
       "      <td>40.025453</td>\n",
       "      <td>89.539533</td>\n",
       "    </tr>\n",
       "    <tr>\n",
       "      <th>std</th>\n",
       "      <td>2.872851e+06</td>\n",
       "      <td>16.974281</td>\n",
       "      <td>14.258114</td>\n",
       "      <td>15.037271</td>\n",
       "      <td>8.319203</td>\n",
       "      <td>9.583328</td>\n",
       "      <td>0.779230</td>\n",
       "      <td>62.456978</td>\n",
       "    </tr>\n",
       "    <tr>\n",
       "      <th>min</th>\n",
       "      <td>1.000116e+07</td>\n",
       "      <td>20.000000</td>\n",
       "      <td>123.000000</td>\n",
       "      <td>36.000000</td>\n",
       "      <td>1.000000</td>\n",
       "      <td>67.000000</td>\n",
       "      <td>37.100000</td>\n",
       "      <td>1.000000</td>\n",
       "    </tr>\n",
       "    <tr>\n",
       "      <th>25%</th>\n",
       "      <td>1.247419e+07</td>\n",
       "      <td>28.000000</td>\n",
       "      <td>164.000000</td>\n",
       "      <td>63.000000</td>\n",
       "      <td>8.000000</td>\n",
       "      <td>88.000000</td>\n",
       "      <td>39.600000</td>\n",
       "      <td>35.000000</td>\n",
       "    </tr>\n",
       "    <tr>\n",
       "      <th>50%</th>\n",
       "      <td>1.499728e+07</td>\n",
       "      <td>39.000000</td>\n",
       "      <td>175.000000</td>\n",
       "      <td>74.000000</td>\n",
       "      <td>16.000000</td>\n",
       "      <td>96.000000</td>\n",
       "      <td>40.200000</td>\n",
       "      <td>79.000000</td>\n",
       "    </tr>\n",
       "    <tr>\n",
       "      <th>75%</th>\n",
       "      <td>1.744928e+07</td>\n",
       "      <td>56.000000</td>\n",
       "      <td>185.000000</td>\n",
       "      <td>87.000000</td>\n",
       "      <td>23.000000</td>\n",
       "      <td>103.000000</td>\n",
       "      <td>40.600000</td>\n",
       "      <td>138.000000</td>\n",
       "    </tr>\n",
       "    <tr>\n",
       "      <th>max</th>\n",
       "      <td>1.999965e+07</td>\n",
       "      <td>79.000000</td>\n",
       "      <td>222.000000</td>\n",
       "      <td>132.000000</td>\n",
       "      <td>30.000000</td>\n",
       "      <td>128.000000</td>\n",
       "      <td>41.500000</td>\n",
       "      <td>314.000000</td>\n",
       "    </tr>\n",
       "  </tbody>\n",
       "</table>\n",
       "</div>"
      ],
      "text/plain": [
       "            User_ID           Age        Height        Weight      Duration  \\\n",
       "count  1.500000e+04  14979.000000  15000.000000  14986.000000  15000.000000   \n",
       "mean   1.497736e+07     42.774952    174.465133     74.964500     15.530600   \n",
       "std    2.872851e+06     16.974281     14.258114     15.037271      8.319203   \n",
       "min    1.000116e+07     20.000000    123.000000     36.000000      1.000000   \n",
       "25%    1.247419e+07     28.000000    164.000000     63.000000      8.000000   \n",
       "50%    1.499728e+07     39.000000    175.000000     74.000000     16.000000   \n",
       "75%    1.744928e+07     56.000000    185.000000     87.000000     23.000000   \n",
       "max    1.999965e+07     79.000000    222.000000    132.000000     30.000000   \n",
       "\n",
       "         Heart_Rate     Body_Temp      Calories  \n",
       "count  15000.000000  15000.000000  15000.000000  \n",
       "mean      95.518533     40.025453     89.539533  \n",
       "std        9.583328      0.779230     62.456978  \n",
       "min       67.000000     37.100000      1.000000  \n",
       "25%       88.000000     39.600000     35.000000  \n",
       "50%       96.000000     40.200000     79.000000  \n",
       "75%      103.000000     40.600000    138.000000  \n",
       "max      128.000000     41.500000    314.000000  "
      ]
     },
     "execution_count": 86,
     "metadata": {},
     "output_type": "execute_result"
    }
   ],
   "source": [
    "df.describe()"
   ]
  },
  {
   "cell_type": "code",
   "execution_count": 87,
   "metadata": {},
   "outputs": [
    {
     "data": {
      "text/plain": [
       "User_ID        0\n",
       "Gender         0\n",
       "Age           21\n",
       "Height         0\n",
       "Weight        14\n",
       "Duration       0\n",
       "Heart_Rate     0\n",
       "Body_Temp      0\n",
       "Calories       0\n",
       "dtype: int64"
      ]
     },
     "execution_count": 87,
     "metadata": {},
     "output_type": "execute_result"
    }
   ],
   "source": [
    "df.isna().sum()"
   ]
  },
  {
   "cell_type": "code",
   "execution_count": 88,
   "metadata": {},
   "outputs": [
    {
     "data": {
      "text/plain": [
       "array([68., 20., 69., 34., 27., 36., 33., 41., 60., 26., 21., nan, 32.,\n",
       "       53., 39., 46., 50., 67., 31., 48., 29., 42., 62., 38., 25., 24.,\n",
       "       22., 74., 70., 44., 61., 63., 54., 35., 28., 77., 64., 45., 66.,\n",
       "       57., 49., 47., 40., 55., 23., 43., 52., 79., 51., 59., 30., 37.,\n",
       "       56., 78., 58., 73., 65., 71., 75., 72., 76.])"
      ]
     },
     "execution_count": 88,
     "metadata": {},
     "output_type": "execute_result"
    }
   ],
   "source": [
    "df['Age'].unique()"
   ]
  },
  {
   "cell_type": "code",
   "execution_count": 89,
   "metadata": {},
   "outputs": [
    {
     "data": {
      "text/plain": [
       "array([ nan,  60.,  79.,  71.,  58.,  50.,  56.,  85.,  94.,  51.,  76.,\n",
       "        54.,  62.,  82.,  67.,  65.,  86.,  93.,  59.,  75.,  73.,  88.,\n",
       "        68.,  84.,  80.,  57.,  70.,  66.,  55.,  98.,  69., 101.,  89.,\n",
       "        64.,  63.,  77.,  61.,  83.,  92.,  72., 100.,  91.,  74.,  87.,\n",
       "       107.,  53.,  96.,  81.,  90.,  45.,  52.,  49.,  78.,  47.,  95.,\n",
       "       109., 104., 102., 103., 105., 112.,  97.,  99., 111.,  42., 115.,\n",
       "        38.,  46., 108., 106.,  48.,  40.,  44., 114.,  41., 110.,  43.,\n",
       "       118., 113., 124., 117., 122., 120., 116., 121., 132.,  39., 119.,\n",
       "        36., 128., 126., 123.])"
      ]
     },
     "execution_count": 89,
     "metadata": {},
     "output_type": "execute_result"
    }
   ],
   "source": [
    "df['Weight'].unique()"
   ]
  },
  {
   "cell_type": "code",
   "execution_count": 90,
   "metadata": {},
   "outputs": [
    {
     "data": {
      "text/plain": [
       "User_ID       0\n",
       "Gender        0\n",
       "Age           0\n",
       "Height        0\n",
       "Weight        0\n",
       "Duration      0\n",
       "Heart_Rate    0\n",
       "Body_Temp     0\n",
       "Calories      0\n",
       "dtype: int64"
      ]
     },
     "execution_count": 90,
     "metadata": {},
     "output_type": "execute_result"
    }
   ],
   "source": [
    "df['Age']=df['Age'].fillna(df['Age'].mean())\n",
    "df['Weight']=df['Weight'].fillna(df['Weight'].mean())\n",
    "df.isna().sum()"
   ]
  },
  {
   "cell_type": "code",
   "execution_count": 91,
   "metadata": {},
   "outputs": [
    {
     "data": {
      "application/vnd.microsoft.datawrangler.viewer.v0+json": {
       "columns": [
        {
         "name": "index",
         "rawType": "int64",
         "type": "integer"
        },
        {
         "name": "Gender",
         "rawType": "object",
         "type": "string"
        },
        {
         "name": "Age",
         "rawType": "float64",
         "type": "float"
        },
        {
         "name": "Height",
         "rawType": "float64",
         "type": "float"
        },
        {
         "name": "Weight",
         "rawType": "float64",
         "type": "float"
        },
        {
         "name": "Duration",
         "rawType": "float64",
         "type": "float"
        },
        {
         "name": "Heart_Rate",
         "rawType": "float64",
         "type": "float"
        },
        {
         "name": "Body_Temp",
         "rawType": "float64",
         "type": "float"
        },
        {
         "name": "Calories",
         "rawType": "float64",
         "type": "float"
        }
       ],
       "conversionMethod": "pd.DataFrame",
       "ref": "94dd4ff7-8588-438b-beea-77b0d0a12a4f",
       "rows": [
        [
         "0",
         "male",
         "68.0",
         "190.0",
         "74.96450020018685",
         "29.0",
         "105.0",
         "40.8",
         "231.0"
        ],
        [
         "1",
         "female",
         "20.0",
         "166.0",
         "60.0",
         "14.0",
         "94.0",
         "40.3",
         "66.0"
        ],
        [
         "2",
         "male",
         "69.0",
         "179.0",
         "79.0",
         "5.0",
         "88.0",
         "38.7",
         "26.0"
        ],
        [
         "3",
         "female",
         "34.0",
         "179.0",
         "71.0",
         "13.0",
         "100.0",
         "40.5",
         "71.0"
        ],
        [
         "4",
         "female",
         "27.0",
         "154.0",
         "58.0",
         "10.0",
         "81.0",
         "39.8",
         "35.0"
        ],
        [
         "5",
         "female",
         "36.0",
         "151.0",
         "50.0",
         "23.0",
         "96.0",
         "40.7",
         "123.0"
        ],
        [
         "6",
         "female",
         "33.0",
         "158.0",
         "56.0",
         "22.0",
         "95.0",
         "40.5",
         "112.0"
        ],
        [
         "7",
         "male",
         "41.0",
         "175.0",
         "85.0",
         "25.0",
         "100.0",
         "40.7",
         "143.0"
        ],
        [
         "8",
         "male",
         "60.0",
         "186.0",
         "94.0",
         "21.0",
         "97.0",
         "40.4",
         "134.0"
        ],
        [
         "9",
         "female",
         "26.0",
         "146.0",
         "51.0",
         "16.0",
         "90.0",
         "40.2",
         "72.0"
        ],
        [
         "10",
         "female",
         "36.0",
         "177.0",
         "76.0",
         "1.0",
         "74.0",
         "37.8",
         "3.0"
        ],
        [
         "11",
         "female",
         "21.0",
         "157.0",
         "74.96450020018685",
         "17.0",
         "100.0",
         "40.0",
         "92.0"
        ],
        [
         "12",
         "male",
         "42.77495159890513",
         "171.0",
         "79.0",
         "11.0",
         "90.0",
         "40.0",
         "58.0"
        ],
        [
         "13",
         "female",
         "32.0",
         "157.0",
         "54.0",
         "18.0",
         "93.0",
         "40.4",
         "88.0"
        ],
        [
         "14",
         "male",
         "53.0",
         "182.0",
         "85.0",
         "2.0",
         "82.0",
         "38.1",
         "7.0"
        ],
        [
         "15",
         "female",
         "39.0",
         "156.0",
         "62.0",
         "28.0",
         "104.0",
         "40.8",
         "170.0"
        ],
        [
         "16",
         "male",
         "42.77495159890513",
         "182.0",
         "82.0",
         "4.0",
         "82.0",
         "38.6",
         "11.0"
        ],
        [
         "17",
         "male",
         "46.0",
         "169.0",
         "67.0",
         "11.0",
         "89.0",
         "40.2",
         "43.0"
        ],
        [
         "18",
         "female",
         "27.0",
         "171.0",
         "65.0",
         "4.0",
         "85.0",
         "38.6",
         "15.0"
        ],
        [
         "19",
         "male",
         "50.0",
         "188.0",
         "86.0",
         "14.0",
         "94.0",
         "40.2",
         "74.0"
        ],
        [
         "20",
         "male",
         "67.0",
         "189.0",
         "93.0",
         "8.0",
         "77.0",
         "39.2",
         "29.0"
        ],
        [
         "21",
         "female",
         "31.0",
         "148.0",
         "50.0",
         "8.0",
         "84.0",
         "39.5",
         "32.0"
        ],
        [
         "22",
         "female",
         "33.0",
         "157.0",
         "60.0",
         "3.0",
         "80.0",
         "38.7",
         "10.0"
        ],
        [
         "23",
         "female",
         "20.0",
         "165.0",
         "59.0",
         "29.0",
         "100.0",
         "41.0",
         "155.0"
        ],
        [
         "24",
         "male",
         "48.0",
         "182.0",
         "85.0",
         "1.0",
         "80.0",
         "37.7",
         "3.0"
        ],
        [
         "25",
         "male",
         "29.0",
         "176.0",
         "75.0",
         "10.0",
         "83.0",
         "39.7",
         "24.0"
        ],
        [
         "26",
         "male",
         "42.77495159890513",
         "173.0",
         "73.0",
         "7.0",
         "78.0",
         "39.3",
         "12.0"
        ],
        [
         "27",
         "male",
         "42.0",
         "190.0",
         "88.0",
         "3.0",
         "83.0",
         "38.9",
         "10.0"
        ],
        [
         "28",
         "female",
         "62.0",
         "159.0",
         "59.0",
         "29.0",
         "106.0",
         "41.2",
         "195.0"
        ],
        [
         "29",
         "male",
         "38.0",
         "171.0",
         "75.0",
         "2.0",
         "81.0",
         "38.2",
         "5.0"
        ],
        [
         "30",
         "male",
         "20.0",
         "183.0",
         "88.0",
         "16.0",
         "97.0",
         "40.5",
         "69.0"
        ],
        [
         "31",
         "female",
         "25.0",
         "160.0",
         "59.0",
         "24.0",
         "102.0",
         "40.3",
         "136.0"
        ],
        [
         "32",
         "female",
         "24.0",
         "165.0",
         "59.0",
         "18.0",
         "91.0",
         "40.2",
         "80.0"
        ],
        [
         "33",
         "female",
         "42.0",
         "165.0",
         "68.0",
         "22.0",
         "93.0",
         "40.8",
         "107.0"
        ],
        [
         "34",
         "male",
         "22.0",
         "182.0",
         "84.0",
         "29.0",
         "114.0",
         "41.0",
         "200.0"
        ],
        [
         "35",
         "female",
         "74.0",
         "158.0",
         "59.0",
         "10.0",
         "93.0",
         "39.6",
         "56.0"
        ],
        [
         "36",
         "female",
         "70.0",
         "154.0",
         "59.0",
         "10.0",
         "88.0",
         "40.0",
         "50.0"
        ],
        [
         "37",
         "female",
         "26.0",
         "182.0",
         "80.0",
         "21.0",
         "96.0",
         "40.5",
         "100.0"
        ],
        [
         "38",
         "male",
         "44.0",
         "184.0",
         "86.0",
         "25.0",
         "114.0",
         "40.8",
         "200.0"
        ],
        [
         "39",
         "male",
         "61.0",
         "183.0",
         "86.0",
         "1.0",
         "81.0",
         "38.3",
         "4.0"
        ],
        [
         "40",
         "female",
         "68.0",
         "157.0",
         "57.0",
         "13.0",
         "92.0",
         "40.1",
         "70.0"
        ],
        [
         "41",
         "female",
         "61.0",
         "176.0",
         "70.0",
         "20.0",
         "104.0",
         "40.5",
         "127.0"
        ],
        [
         "42",
         "male",
         "63.0",
         "179.0",
         "80.0",
         "25.0",
         "108.0",
         "40.8",
         "197.0"
        ],
        [
         "43",
         "female",
         "54.0",
         "171.0",
         "66.0",
         "20.0",
         "98.0",
         "40.1",
         "113.0"
        ],
        [
         "44",
         "female",
         "54.0",
         "169.0",
         "66.0",
         "3.0",
         "80.0",
         "38.9",
         "11.0"
        ],
        [
         "45",
         "female",
         "42.77495159890513",
         "155.0",
         "55.0",
         "16.0",
         "93.0",
         "40.5",
         "82.0"
        ],
        [
         "46",
         "male",
         "33.0",
         "184.0",
         "86.0",
         "8.0",
         "86.0",
         "39.9",
         "26.0"
        ],
        [
         "47",
         "female",
         "24.0",
         "171.0",
         "66.0",
         "24.0",
         "105.0",
         "40.6",
         "141.0"
        ],
        [
         "48",
         "male",
         "24.0",
         "195.0",
         "98.0",
         "20.0",
         "96.0",
         "40.6",
         "92.0"
        ],
        [
         "49",
         "male",
         "48.0",
         "152.0",
         "59.0",
         "2.0",
         "79.0",
         "38.0",
         "5.0"
        ]
       ],
       "shape": {
        "columns": 8,
        "rows": 15000
       }
      },
      "text/html": [
       "<div>\n",
       "<style scoped>\n",
       "    .dataframe tbody tr th:only-of-type {\n",
       "        vertical-align: middle;\n",
       "    }\n",
       "\n",
       "    .dataframe tbody tr th {\n",
       "        vertical-align: top;\n",
       "    }\n",
       "\n",
       "    .dataframe thead th {\n",
       "        text-align: right;\n",
       "    }\n",
       "</style>\n",
       "<table border=\"1\" class=\"dataframe\">\n",
       "  <thead>\n",
       "    <tr style=\"text-align: right;\">\n",
       "      <th></th>\n",
       "      <th>Gender</th>\n",
       "      <th>Age</th>\n",
       "      <th>Height</th>\n",
       "      <th>Weight</th>\n",
       "      <th>Duration</th>\n",
       "      <th>Heart_Rate</th>\n",
       "      <th>Body_Temp</th>\n",
       "      <th>Calories</th>\n",
       "    </tr>\n",
       "  </thead>\n",
       "  <tbody>\n",
       "    <tr>\n",
       "      <th>0</th>\n",
       "      <td>male</td>\n",
       "      <td>68.0</td>\n",
       "      <td>190.0</td>\n",
       "      <td>74.9645</td>\n",
       "      <td>29.0</td>\n",
       "      <td>105.0</td>\n",
       "      <td>40.8</td>\n",
       "      <td>231.0</td>\n",
       "    </tr>\n",
       "    <tr>\n",
       "      <th>1</th>\n",
       "      <td>female</td>\n",
       "      <td>20.0</td>\n",
       "      <td>166.0</td>\n",
       "      <td>60.0000</td>\n",
       "      <td>14.0</td>\n",
       "      <td>94.0</td>\n",
       "      <td>40.3</td>\n",
       "      <td>66.0</td>\n",
       "    </tr>\n",
       "    <tr>\n",
       "      <th>2</th>\n",
       "      <td>male</td>\n",
       "      <td>69.0</td>\n",
       "      <td>179.0</td>\n",
       "      <td>79.0000</td>\n",
       "      <td>5.0</td>\n",
       "      <td>88.0</td>\n",
       "      <td>38.7</td>\n",
       "      <td>26.0</td>\n",
       "    </tr>\n",
       "    <tr>\n",
       "      <th>3</th>\n",
       "      <td>female</td>\n",
       "      <td>34.0</td>\n",
       "      <td>179.0</td>\n",
       "      <td>71.0000</td>\n",
       "      <td>13.0</td>\n",
       "      <td>100.0</td>\n",
       "      <td>40.5</td>\n",
       "      <td>71.0</td>\n",
       "    </tr>\n",
       "    <tr>\n",
       "      <th>4</th>\n",
       "      <td>female</td>\n",
       "      <td>27.0</td>\n",
       "      <td>154.0</td>\n",
       "      <td>58.0000</td>\n",
       "      <td>10.0</td>\n",
       "      <td>81.0</td>\n",
       "      <td>39.8</td>\n",
       "      <td>35.0</td>\n",
       "    </tr>\n",
       "    <tr>\n",
       "      <th>...</th>\n",
       "      <td>...</td>\n",
       "      <td>...</td>\n",
       "      <td>...</td>\n",
       "      <td>...</td>\n",
       "      <td>...</td>\n",
       "      <td>...</td>\n",
       "      <td>...</td>\n",
       "      <td>...</td>\n",
       "    </tr>\n",
       "    <tr>\n",
       "      <th>14995</th>\n",
       "      <td>female</td>\n",
       "      <td>20.0</td>\n",
       "      <td>193.0</td>\n",
       "      <td>86.0000</td>\n",
       "      <td>11.0</td>\n",
       "      <td>92.0</td>\n",
       "      <td>40.4</td>\n",
       "      <td>45.0</td>\n",
       "    </tr>\n",
       "    <tr>\n",
       "      <th>14996</th>\n",
       "      <td>female</td>\n",
       "      <td>27.0</td>\n",
       "      <td>165.0</td>\n",
       "      <td>65.0000</td>\n",
       "      <td>6.0</td>\n",
       "      <td>85.0</td>\n",
       "      <td>39.2</td>\n",
       "      <td>23.0</td>\n",
       "    </tr>\n",
       "    <tr>\n",
       "      <th>14997</th>\n",
       "      <td>female</td>\n",
       "      <td>43.0</td>\n",
       "      <td>159.0</td>\n",
       "      <td>58.0000</td>\n",
       "      <td>16.0</td>\n",
       "      <td>90.0</td>\n",
       "      <td>40.1</td>\n",
       "      <td>75.0</td>\n",
       "    </tr>\n",
       "    <tr>\n",
       "      <th>14998</th>\n",
       "      <td>male</td>\n",
       "      <td>78.0</td>\n",
       "      <td>193.0</td>\n",
       "      <td>97.0000</td>\n",
       "      <td>2.0</td>\n",
       "      <td>84.0</td>\n",
       "      <td>38.3</td>\n",
       "      <td>11.0</td>\n",
       "    </tr>\n",
       "    <tr>\n",
       "      <th>14999</th>\n",
       "      <td>male</td>\n",
       "      <td>63.0</td>\n",
       "      <td>173.0</td>\n",
       "      <td>79.0000</td>\n",
       "      <td>18.0</td>\n",
       "      <td>92.0</td>\n",
       "      <td>40.5</td>\n",
       "      <td>98.0</td>\n",
       "    </tr>\n",
       "  </tbody>\n",
       "</table>\n",
       "<p>15000 rows × 8 columns</p>\n",
       "</div>"
      ],
      "text/plain": [
       "       Gender   Age  Height   Weight  Duration  Heart_Rate  Body_Temp  \\\n",
       "0        male  68.0   190.0  74.9645      29.0       105.0       40.8   \n",
       "1      female  20.0   166.0  60.0000      14.0        94.0       40.3   \n",
       "2        male  69.0   179.0  79.0000       5.0        88.0       38.7   \n",
       "3      female  34.0   179.0  71.0000      13.0       100.0       40.5   \n",
       "4      female  27.0   154.0  58.0000      10.0        81.0       39.8   \n",
       "...       ...   ...     ...      ...       ...         ...        ...   \n",
       "14995  female  20.0   193.0  86.0000      11.0        92.0       40.4   \n",
       "14996  female  27.0   165.0  65.0000       6.0        85.0       39.2   \n",
       "14997  female  43.0   159.0  58.0000      16.0        90.0       40.1   \n",
       "14998    male  78.0   193.0  97.0000       2.0        84.0       38.3   \n",
       "14999    male  63.0   173.0  79.0000      18.0        92.0       40.5   \n",
       "\n",
       "       Calories  \n",
       "0         231.0  \n",
       "1          66.0  \n",
       "2          26.0  \n",
       "3          71.0  \n",
       "4          35.0  \n",
       "...         ...  \n",
       "14995      45.0  \n",
       "14996      23.0  \n",
       "14997      75.0  \n",
       "14998      11.0  \n",
       "14999      98.0  \n",
       "\n",
       "[15000 rows x 8 columns]"
      ]
     },
     "execution_count": 91,
     "metadata": {},
     "output_type": "execute_result"
    }
   ],
   "source": [
    "df.drop(['User_ID'],axis=1,inplace=True)\n",
    "df"
   ]
  },
  {
   "cell_type": "code",
   "execution_count": 92,
   "metadata": {},
   "outputs": [
    {
     "data": {
      "application/vnd.microsoft.datawrangler.viewer.v0+json": {
       "columns": [
        {
         "name": "index",
         "rawType": "int64",
         "type": "integer"
        },
        {
         "name": "Gender",
         "rawType": "int64",
         "type": "integer"
        },
        {
         "name": "Age",
         "rawType": "float64",
         "type": "float"
        },
        {
         "name": "Height",
         "rawType": "float64",
         "type": "float"
        },
        {
         "name": "Weight",
         "rawType": "float64",
         "type": "float"
        },
        {
         "name": "Duration",
         "rawType": "float64",
         "type": "float"
        },
        {
         "name": "Heart_Rate",
         "rawType": "float64",
         "type": "float"
        },
        {
         "name": "Body_Temp",
         "rawType": "float64",
         "type": "float"
        },
        {
         "name": "Calories",
         "rawType": "float64",
         "type": "float"
        }
       ],
       "conversionMethod": "pd.DataFrame",
       "ref": "4449640f-f34a-44f8-bd9e-4d2628644579",
       "rows": [
        [
         "0",
         "1",
         "68.0",
         "190.0",
         "74.96450020018685",
         "29.0",
         "105.0",
         "40.8",
         "231.0"
        ],
        [
         "1",
         "0",
         "20.0",
         "166.0",
         "60.0",
         "14.0",
         "94.0",
         "40.3",
         "66.0"
        ],
        [
         "2",
         "1",
         "69.0",
         "179.0",
         "79.0",
         "5.0",
         "88.0",
         "38.7",
         "26.0"
        ],
        [
         "3",
         "0",
         "34.0",
         "179.0",
         "71.0",
         "13.0",
         "100.0",
         "40.5",
         "71.0"
        ],
        [
         "4",
         "0",
         "27.0",
         "154.0",
         "58.0",
         "10.0",
         "81.0",
         "39.8",
         "35.0"
        ],
        [
         "5",
         "0",
         "36.0",
         "151.0",
         "50.0",
         "23.0",
         "96.0",
         "40.7",
         "123.0"
        ],
        [
         "6",
         "0",
         "33.0",
         "158.0",
         "56.0",
         "22.0",
         "95.0",
         "40.5",
         "112.0"
        ],
        [
         "7",
         "1",
         "41.0",
         "175.0",
         "85.0",
         "25.0",
         "100.0",
         "40.7",
         "143.0"
        ],
        [
         "8",
         "1",
         "60.0",
         "186.0",
         "94.0",
         "21.0",
         "97.0",
         "40.4",
         "134.0"
        ],
        [
         "9",
         "0",
         "26.0",
         "146.0",
         "51.0",
         "16.0",
         "90.0",
         "40.2",
         "72.0"
        ],
        [
         "10",
         "0",
         "36.0",
         "177.0",
         "76.0",
         "1.0",
         "74.0",
         "37.8",
         "3.0"
        ],
        [
         "11",
         "0",
         "21.0",
         "157.0",
         "74.96450020018685",
         "17.0",
         "100.0",
         "40.0",
         "92.0"
        ],
        [
         "12",
         "1",
         "42.77495159890513",
         "171.0",
         "79.0",
         "11.0",
         "90.0",
         "40.0",
         "58.0"
        ],
        [
         "13",
         "0",
         "32.0",
         "157.0",
         "54.0",
         "18.0",
         "93.0",
         "40.4",
         "88.0"
        ],
        [
         "14",
         "1",
         "53.0",
         "182.0",
         "85.0",
         "2.0",
         "82.0",
         "38.1",
         "7.0"
        ],
        [
         "15",
         "0",
         "39.0",
         "156.0",
         "62.0",
         "28.0",
         "104.0",
         "40.8",
         "170.0"
        ],
        [
         "16",
         "1",
         "42.77495159890513",
         "182.0",
         "82.0",
         "4.0",
         "82.0",
         "38.6",
         "11.0"
        ],
        [
         "17",
         "1",
         "46.0",
         "169.0",
         "67.0",
         "11.0",
         "89.0",
         "40.2",
         "43.0"
        ],
        [
         "18",
         "0",
         "27.0",
         "171.0",
         "65.0",
         "4.0",
         "85.0",
         "38.6",
         "15.0"
        ],
        [
         "19",
         "1",
         "50.0",
         "188.0",
         "86.0",
         "14.0",
         "94.0",
         "40.2",
         "74.0"
        ],
        [
         "20",
         "1",
         "67.0",
         "189.0",
         "93.0",
         "8.0",
         "77.0",
         "39.2",
         "29.0"
        ],
        [
         "21",
         "0",
         "31.0",
         "148.0",
         "50.0",
         "8.0",
         "84.0",
         "39.5",
         "32.0"
        ],
        [
         "22",
         "0",
         "33.0",
         "157.0",
         "60.0",
         "3.0",
         "80.0",
         "38.7",
         "10.0"
        ],
        [
         "23",
         "0",
         "20.0",
         "165.0",
         "59.0",
         "29.0",
         "100.0",
         "41.0",
         "155.0"
        ],
        [
         "24",
         "1",
         "48.0",
         "182.0",
         "85.0",
         "1.0",
         "80.0",
         "37.7",
         "3.0"
        ],
        [
         "25",
         "1",
         "29.0",
         "176.0",
         "75.0",
         "10.0",
         "83.0",
         "39.7",
         "24.0"
        ],
        [
         "26",
         "1",
         "42.77495159890513",
         "173.0",
         "73.0",
         "7.0",
         "78.0",
         "39.3",
         "12.0"
        ],
        [
         "27",
         "1",
         "42.0",
         "190.0",
         "88.0",
         "3.0",
         "83.0",
         "38.9",
         "10.0"
        ],
        [
         "28",
         "0",
         "62.0",
         "159.0",
         "59.0",
         "29.0",
         "106.0",
         "41.2",
         "195.0"
        ],
        [
         "29",
         "1",
         "38.0",
         "171.0",
         "75.0",
         "2.0",
         "81.0",
         "38.2",
         "5.0"
        ],
        [
         "30",
         "1",
         "20.0",
         "183.0",
         "88.0",
         "16.0",
         "97.0",
         "40.5",
         "69.0"
        ],
        [
         "31",
         "0",
         "25.0",
         "160.0",
         "59.0",
         "24.0",
         "102.0",
         "40.3",
         "136.0"
        ],
        [
         "32",
         "0",
         "24.0",
         "165.0",
         "59.0",
         "18.0",
         "91.0",
         "40.2",
         "80.0"
        ],
        [
         "33",
         "0",
         "42.0",
         "165.0",
         "68.0",
         "22.0",
         "93.0",
         "40.8",
         "107.0"
        ],
        [
         "34",
         "1",
         "22.0",
         "182.0",
         "84.0",
         "29.0",
         "114.0",
         "41.0",
         "200.0"
        ],
        [
         "35",
         "0",
         "74.0",
         "158.0",
         "59.0",
         "10.0",
         "93.0",
         "39.6",
         "56.0"
        ],
        [
         "36",
         "0",
         "70.0",
         "154.0",
         "59.0",
         "10.0",
         "88.0",
         "40.0",
         "50.0"
        ],
        [
         "37",
         "0",
         "26.0",
         "182.0",
         "80.0",
         "21.0",
         "96.0",
         "40.5",
         "100.0"
        ],
        [
         "38",
         "1",
         "44.0",
         "184.0",
         "86.0",
         "25.0",
         "114.0",
         "40.8",
         "200.0"
        ],
        [
         "39",
         "1",
         "61.0",
         "183.0",
         "86.0",
         "1.0",
         "81.0",
         "38.3",
         "4.0"
        ],
        [
         "40",
         "0",
         "68.0",
         "157.0",
         "57.0",
         "13.0",
         "92.0",
         "40.1",
         "70.0"
        ],
        [
         "41",
         "0",
         "61.0",
         "176.0",
         "70.0",
         "20.0",
         "104.0",
         "40.5",
         "127.0"
        ],
        [
         "42",
         "1",
         "63.0",
         "179.0",
         "80.0",
         "25.0",
         "108.0",
         "40.8",
         "197.0"
        ],
        [
         "43",
         "0",
         "54.0",
         "171.0",
         "66.0",
         "20.0",
         "98.0",
         "40.1",
         "113.0"
        ],
        [
         "44",
         "0",
         "54.0",
         "169.0",
         "66.0",
         "3.0",
         "80.0",
         "38.9",
         "11.0"
        ],
        [
         "45",
         "0",
         "42.77495159890513",
         "155.0",
         "55.0",
         "16.0",
         "93.0",
         "40.5",
         "82.0"
        ],
        [
         "46",
         "1",
         "33.0",
         "184.0",
         "86.0",
         "8.0",
         "86.0",
         "39.9",
         "26.0"
        ],
        [
         "47",
         "0",
         "24.0",
         "171.0",
         "66.0",
         "24.0",
         "105.0",
         "40.6",
         "141.0"
        ],
        [
         "48",
         "1",
         "24.0",
         "195.0",
         "98.0",
         "20.0",
         "96.0",
         "40.6",
         "92.0"
        ],
        [
         "49",
         "1",
         "48.0",
         "152.0",
         "59.0",
         "2.0",
         "79.0",
         "38.0",
         "5.0"
        ]
       ],
       "shape": {
        "columns": 8,
        "rows": 15000
       }
      },
      "text/html": [
       "<div>\n",
       "<style scoped>\n",
       "    .dataframe tbody tr th:only-of-type {\n",
       "        vertical-align: middle;\n",
       "    }\n",
       "\n",
       "    .dataframe tbody tr th {\n",
       "        vertical-align: top;\n",
       "    }\n",
       "\n",
       "    .dataframe thead th {\n",
       "        text-align: right;\n",
       "    }\n",
       "</style>\n",
       "<table border=\"1\" class=\"dataframe\">\n",
       "  <thead>\n",
       "    <tr style=\"text-align: right;\">\n",
       "      <th></th>\n",
       "      <th>Gender</th>\n",
       "      <th>Age</th>\n",
       "      <th>Height</th>\n",
       "      <th>Weight</th>\n",
       "      <th>Duration</th>\n",
       "      <th>Heart_Rate</th>\n",
       "      <th>Body_Temp</th>\n",
       "      <th>Calories</th>\n",
       "    </tr>\n",
       "  </thead>\n",
       "  <tbody>\n",
       "    <tr>\n",
       "      <th>0</th>\n",
       "      <td>1</td>\n",
       "      <td>68.0</td>\n",
       "      <td>190.0</td>\n",
       "      <td>74.9645</td>\n",
       "      <td>29.0</td>\n",
       "      <td>105.0</td>\n",
       "      <td>40.8</td>\n",
       "      <td>231.0</td>\n",
       "    </tr>\n",
       "    <tr>\n",
       "      <th>1</th>\n",
       "      <td>0</td>\n",
       "      <td>20.0</td>\n",
       "      <td>166.0</td>\n",
       "      <td>60.0000</td>\n",
       "      <td>14.0</td>\n",
       "      <td>94.0</td>\n",
       "      <td>40.3</td>\n",
       "      <td>66.0</td>\n",
       "    </tr>\n",
       "    <tr>\n",
       "      <th>2</th>\n",
       "      <td>1</td>\n",
       "      <td>69.0</td>\n",
       "      <td>179.0</td>\n",
       "      <td>79.0000</td>\n",
       "      <td>5.0</td>\n",
       "      <td>88.0</td>\n",
       "      <td>38.7</td>\n",
       "      <td>26.0</td>\n",
       "    </tr>\n",
       "    <tr>\n",
       "      <th>3</th>\n",
       "      <td>0</td>\n",
       "      <td>34.0</td>\n",
       "      <td>179.0</td>\n",
       "      <td>71.0000</td>\n",
       "      <td>13.0</td>\n",
       "      <td>100.0</td>\n",
       "      <td>40.5</td>\n",
       "      <td>71.0</td>\n",
       "    </tr>\n",
       "    <tr>\n",
       "      <th>4</th>\n",
       "      <td>0</td>\n",
       "      <td>27.0</td>\n",
       "      <td>154.0</td>\n",
       "      <td>58.0000</td>\n",
       "      <td>10.0</td>\n",
       "      <td>81.0</td>\n",
       "      <td>39.8</td>\n",
       "      <td>35.0</td>\n",
       "    </tr>\n",
       "    <tr>\n",
       "      <th>...</th>\n",
       "      <td>...</td>\n",
       "      <td>...</td>\n",
       "      <td>...</td>\n",
       "      <td>...</td>\n",
       "      <td>...</td>\n",
       "      <td>...</td>\n",
       "      <td>...</td>\n",
       "      <td>...</td>\n",
       "    </tr>\n",
       "    <tr>\n",
       "      <th>14995</th>\n",
       "      <td>0</td>\n",
       "      <td>20.0</td>\n",
       "      <td>193.0</td>\n",
       "      <td>86.0000</td>\n",
       "      <td>11.0</td>\n",
       "      <td>92.0</td>\n",
       "      <td>40.4</td>\n",
       "      <td>45.0</td>\n",
       "    </tr>\n",
       "    <tr>\n",
       "      <th>14996</th>\n",
       "      <td>0</td>\n",
       "      <td>27.0</td>\n",
       "      <td>165.0</td>\n",
       "      <td>65.0000</td>\n",
       "      <td>6.0</td>\n",
       "      <td>85.0</td>\n",
       "      <td>39.2</td>\n",
       "      <td>23.0</td>\n",
       "    </tr>\n",
       "    <tr>\n",
       "      <th>14997</th>\n",
       "      <td>0</td>\n",
       "      <td>43.0</td>\n",
       "      <td>159.0</td>\n",
       "      <td>58.0000</td>\n",
       "      <td>16.0</td>\n",
       "      <td>90.0</td>\n",
       "      <td>40.1</td>\n",
       "      <td>75.0</td>\n",
       "    </tr>\n",
       "    <tr>\n",
       "      <th>14998</th>\n",
       "      <td>1</td>\n",
       "      <td>78.0</td>\n",
       "      <td>193.0</td>\n",
       "      <td>97.0000</td>\n",
       "      <td>2.0</td>\n",
       "      <td>84.0</td>\n",
       "      <td>38.3</td>\n",
       "      <td>11.0</td>\n",
       "    </tr>\n",
       "    <tr>\n",
       "      <th>14999</th>\n",
       "      <td>1</td>\n",
       "      <td>63.0</td>\n",
       "      <td>173.0</td>\n",
       "      <td>79.0000</td>\n",
       "      <td>18.0</td>\n",
       "      <td>92.0</td>\n",
       "      <td>40.5</td>\n",
       "      <td>98.0</td>\n",
       "    </tr>\n",
       "  </tbody>\n",
       "</table>\n",
       "<p>15000 rows × 8 columns</p>\n",
       "</div>"
      ],
      "text/plain": [
       "       Gender   Age  Height   Weight  Duration  Heart_Rate  Body_Temp  \\\n",
       "0           1  68.0   190.0  74.9645      29.0       105.0       40.8   \n",
       "1           0  20.0   166.0  60.0000      14.0        94.0       40.3   \n",
       "2           1  69.0   179.0  79.0000       5.0        88.0       38.7   \n",
       "3           0  34.0   179.0  71.0000      13.0       100.0       40.5   \n",
       "4           0  27.0   154.0  58.0000      10.0        81.0       39.8   \n",
       "...       ...   ...     ...      ...       ...         ...        ...   \n",
       "14995       0  20.0   193.0  86.0000      11.0        92.0       40.4   \n",
       "14996       0  27.0   165.0  65.0000       6.0        85.0       39.2   \n",
       "14997       0  43.0   159.0  58.0000      16.0        90.0       40.1   \n",
       "14998       1  78.0   193.0  97.0000       2.0        84.0       38.3   \n",
       "14999       1  63.0   173.0  79.0000      18.0        92.0       40.5   \n",
       "\n",
       "       Calories  \n",
       "0         231.0  \n",
       "1          66.0  \n",
       "2          26.0  \n",
       "3          71.0  \n",
       "4          35.0  \n",
       "...         ...  \n",
       "14995      45.0  \n",
       "14996      23.0  \n",
       "14997      75.0  \n",
       "14998      11.0  \n",
       "14999      98.0  \n",
       "\n",
       "[15000 rows x 8 columns]"
      ]
     },
     "execution_count": 92,
     "metadata": {},
     "output_type": "execute_result"
    }
   ],
   "source": [
    "from sklearn.preprocessing import LabelEncoder\n",
    "lab=LabelEncoder()\n",
    "df['Gender']=lab.fit_transform(df['Gender'])\n",
    "df"
   ]
  },
  {
   "cell_type": "code",
   "execution_count": 93,
   "metadata": {},
   "outputs": [],
   "source": [
    "count=df['Gender'].value_counts()\n",
    "label=['Male','Female']\n"
   ]
  },
  {
   "cell_type": "code",
   "execution_count": 94,
   "metadata": {},
   "outputs": [
    {
     "data": {
      "image/png": "[encoded data removed]",
      "text/plain": [
       "<Figure size 640x480 with 1 Axes>"
      ]
     },
     "metadata": {},
     "output_type": "display_data"
    }
   ],
   "source": [
    "plt.pie(count,labels=label,autopct=\"%1.1f%%\",colors='cyan')\n",
    "plt.title('Gender Distribution')\n",
    "plt.tight_layout()"
   ]
  },
  {
   "cell_type": "code",
   "execution_count": 95,
   "metadata": {},
   "outputs": [
    {
     "data": {
      "text/plain": [
       "<Axes: xlabel='Height', ylabel='Weight'>"
      ]
     },
     "execution_count": 95,
     "metadata": {},
     "output_type": "execute_result"
    },
    {
     "data": {
      "image/png": "[encoded data removed]",
      "text/plain": [
       "<Figure size 640x480 with 1 Axes>"
      ]
     },
     "metadata": {},
     "output_type": "display_data"
    }
   ],
   "source": [
    "sns.scatterplot(x='Height',y='Weight',data=df)"
   ]
  },
  {
   "cell_type": "code",
   "execution_count": 96,
   "metadata": {},
   "outputs": [
    {
     "data": {
      "image/png": "[encoded data removed]",
      "text/plain": [
       "<Figure size 800x600 with 1 Axes>"
      ]
     },
     "metadata": {},
     "output_type": "display_data"
    }
   ],
   "source": [
    "plt.figure(figsize=(8,6))\n",
    "sns.barplot(x='Duration',y='Calories',data=df,estimator=np.mean,palette='viridis',hue='Duration')\n",
    "plt.title('Average Calories Burnt VS Duration(in Minutes)')\n",
    "plt.xlabel('Duration')\n",
    "plt.ylabel('Average Calories Brunt')\n",
    "plt.xticks(rotation=45)\n",
    "plt.tight_layout()"
   ]
  },
  {
   "cell_type": "code",
   "execution_count": 97,
   "metadata": {},
   "outputs": [
    {
     "data": {
      "text/plain": [
       "Text(0, 0.5, 'Boady Temperature')"
      ]
     },
     "execution_count": 97,
     "metadata": {},
     "output_type": "execute_result"
    },
    {
     "data": {
      "image/png": "[encoded data removed]",
      "text/plain": [
       "<Figure size 800x600 with 1 Axes>"
      ]
     },
     "metadata": {},
     "output_type": "display_data"
    }
   ],
   "source": [
    "plt.figure(figsize=[8,6])\n",
    "sns.scatterplot(x='Duration',y='Body_Temp',data=df,hue='Duration')\n",
    "plt.xlabel('Duration in Min')\n",
    "plt.ylabel('Boady Temperature')"
   ]
  },
  {
   "cell_type": "code",
   "execution_count": 98,
   "metadata": {},
   "outputs": [
    {
     "data": {
      "text/plain": [
       "Gender          int64\n",
       "Age           float64\n",
       "Height        float64\n",
       "Weight        float64\n",
       "Duration      float64\n",
       "Heart_Rate    float64\n",
       "Body_Temp     float64\n",
       "Calories      float64\n",
       "dtype: object"
      ]
     },
     "execution_count": 98,
     "metadata": {},
     "output_type": "execute_result"
    }
   ],
   "source": [
    "df.dtypes"
   ]
  },
  {
   "cell_type": "code",
   "execution_count": 99,
   "metadata": {},
   "outputs": [
    {
     "data": {
      "image/png": "[encoded data removed]",
      "text/plain": [
       "<Figure size 900x600 with 1 Axes>"
      ]
     },
     "metadata": {},
     "output_type": "display_data"
    }
   ],
   "source": [
    "numeric_cols=df.select_dtypes(include=[np.number]).columns\n",
    "\n",
    "plt.figure(figsize=(9,6))\n",
    "sns.boxplot(data=df[numeric_cols])\n",
    "plt.title('Boxplot of All Features')\n",
    "plt.tight_layout()"
   ]
  },
  {
   "cell_type": "code",
   "execution_count": 100,
   "metadata": {},
   "outputs": [],
   "source": [
    "outlier_columns=['Height','Weight','Heart_Rate','Body_Temp','Calories']\n",
    "def remove_outliers(df,columns):\n",
    "    for a in columns:\n",
    "        Q1=df[a].quantile(0.25)\n",
    "        Q3=df[a].quantile(0.75)\n",
    "        IQR=Q3-Q1\n",
    "        lower_bound=Q1-1.5*IQR\n",
    "        upper_bound=Q3+1.5*IQR\n",
    "        df=df[(df[a]>=lower_bound)&(df[a]<=upper_bound)]\n",
    "    return df\n",
    "df_cleaned=remove_outliers(df,outlier_columns)"
   ]
  },
  {
   "cell_type": "code",
   "execution_count": 101,
   "metadata": {},
   "outputs": [
    {
     "data": {
      "text/plain": [
       "Text(0.5, 1.0, 'HeatMap')"
      ]
     },
     "execution_count": 101,
     "metadata": {},
     "output_type": "execute_result"
    },
    {
     "data": {
      "image/png": "[encoded data removed]",
      "text/plain": [
       "<Figure size 1200x800 with 2 Axes>"
      ]
     },
     "metadata": {},
     "output_type": "display_data"
    }
   ],
   "source": [
    "correlation_matrix=df_cleaned.corr()\n",
    "plt.figure(figsize=(12,8))\n",
    "sns.heatmap(correlation_matrix,annot=True,cmap='coolwarm',fmt='.2f',linewidths=0.5) #annot is used to fill corresponding values in the cell.\n",
    "#In Default the values will be blank.\n",
    "plt.title('HeatMap')"
   ]
  },
  {
   "cell_type": "code",
   "execution_count": 102,
   "metadata": {},
   "outputs": [
    {
     "data": {
      "text/plain": [
       "Text(0.5, 1.0, 'HeatMap')"
      ]
     },
     "execution_count": 102,
     "metadata": {},
     "output_type": "execute_result"
    },
    {
     "data": {
      "image/png": "[encoded data removed]",
      "text/plain": [
       "<Figure size 1200x800 with 2 Axes>"
      ]
     },
     "metadata": {},
     "output_type": "display_data"
    }
   ],
   "source": [
    "df_selected=df_cleaned.drop(columns=['Height','Gender'])\n",
    "correlation_matrix=df_selected.corr()\n",
    "plt.figure(figsize=(12,8))\n",
    "sns.heatmap(correlation_matrix,annot=True,cmap='coolwarm',fmt='.2f',linewidths=0.5)\n",
    "plt.title('HeatMap')"
   ]
  },
  {
   "cell_type": "code",
   "execution_count": 103,
   "metadata": {},
   "outputs": [],
   "source": [
    "x=df_selected.iloc[:,:-1]\n",
    "y=df_selected.iloc[:,-1]"
   ]
  },
  {
   "cell_type": "code",
   "execution_count": 104,
   "metadata": {},
   "outputs": [],
   "source": [
    "from sklearn.model_selection import train_test_split\n",
    "x_train,x_test,y_train,y_test=train_test_split(x,y,test_size=0.30,random_state=42)\n"
   ]
  },
  {
   "cell_type": "code",
   "execution_count": 105,
   "metadata": {},
   "outputs": [
    {
     "data": {
      "text/plain": [
       "array([ 57.08779859, 160.96536246,  40.06827882, ..., 186.87385985,\n",
       "        22.78937146,  50.12177469], shape=(4384,))"
      ]
     },
     "execution_count": 105,
     "metadata": {},
     "output_type": "execute_result"
    }
   ],
   "source": [
    "from sklearn.linear_model import LinearRegression\n",
    "model=LinearRegression()\n",
    "model.fit(x_train,y_train)\n",
    "y_pred=model.predict(x_test)\n",
    "y_pred"
   ]
  },
  {
   "cell_type": "code",
   "execution_count": 106,
   "metadata": {},
   "outputs": [
    {
     "data": {
      "text/plain": [
       "0.23657167743796276"
      ]
     },
     "execution_count": 106,
     "metadata": {},
     "output_type": "execute_result"
    }
   ],
   "source": [
    "from sklearn.metrics import mean_absolute_percentage_error,r2_score\n",
    "mape=mean_absolute_percentage_error(y_test,y_pred)\n",
    "score=r2_score(y_test,y_pred)\n",
    "mape"
   ]
  },
  {
   "cell_type": "code",
   "execution_count": 107,
   "metadata": {},
   "outputs": [
    {
     "data": {
      "text/plain": [
       "0.9668059871514643"
      ]
     },
     "execution_count": 107,
     "metadata": {},
     "output_type": "execute_result"
    }
   ],
   "source": [
    "score"
   ]
  }
 ],
 "metadata": {
  "kernelspec": {
   "display_name": "Python 3",
   "language": "python",
   "name": "python3"
  },
  "language_info": {
   "codemirror_mode": {
    "name": "ipython",
    "version": 3
   },
   "file_extension": ".py",
   "mimetype": "text/x-python",
   "name": "python",
   "nbconvert_exporter": "python",
   "pygments_lexer": "ipython3",
   "version": "3.13.0"
  }
 },
 "nbformat": 4,
 "nbformat_minor": 2
}
