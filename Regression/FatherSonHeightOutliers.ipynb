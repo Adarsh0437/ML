{
 "cells": [
  {
   "cell_type": "code",
   "execution_count": 19,
   "metadata": {},
   "outputs": [
    {
     "data": {
      "application/vnd.microsoft.datawrangler.viewer.v0+json": {
       "columns": [
        {
         "name": "index",
         "rawType": "int64",
         "type": "integer"
        },
        {
         "name": "Father",
         "rawType": "float64",
         "type": "float"
        },
        {
         "name": "Son",
         "rawType": "float64",
         "type": "float"
        }
       ],
       "conversionMethod": "pd.DataFrame",
       "ref": "06ed2bd2-c801-450f-9fce-bc46a5801154",
       "rows": [
        [
         "0",
         "65.0",
         "59.8"
        ],
        [
         "1",
         "63.3",
         "63.2"
        ],
        [
         "2",
         "65.0",
         "63.3"
        ],
        [
         "3",
         "65.8",
         "62.8"
        ],
        [
         "4",
         "61.1",
         "64.3"
        ],
        [
         "5",
         "63.0",
         "64.2"
        ],
        [
         "6",
         "65.4",
         "64.1"
        ],
        [
         "7",
         "64.7",
         "64.0"
        ],
        [
         "8",
         "66.1",
         "64.6"
        ],
        [
         "9",
         "67.0",
         "64.0"
        ],
        [
         "10",
         "59.0",
         "65.2"
        ],
        [
         "11",
         "62.9",
         "65.4"
        ],
        [
         "12",
         "63.7",
         "65.7"
        ],
        [
         "13",
         "64.1",
         "65.4"
        ],
        [
         "14",
         "64.7",
         "65.3"
        ],
        [
         "15",
         "65.2",
         "64.8"
        ],
        [
         "16",
         "66.4",
         "65.0"
        ],
        [
         "17",
         "65.6",
         "65.5"
        ],
        [
         "18",
         "67.4",
         "65.1"
        ],
        [
         "19",
         "66.8",
         "65.5"
        ],
        [
         "20",
         "67.8",
         "65.1"
        ],
        [
         "21",
         "69.5",
         "65.5"
        ],
        [
         "22",
         "62.5",
         "66.6"
        ],
        [
         "23",
         "63.8",
         "66.4"
        ],
        [
         "24",
         "64.5",
         "66.1"
        ],
        [
         "25",
         "65.0",
         "66.0"
        ],
        [
         "26",
         "64.7",
         "66.0"
        ],
        [
         "27",
         "65.7",
         "66.5"
        ],
        [
         "28",
         "65.5",
         "65.7"
        ],
        [
         "29",
         "65.6",
         "66.0"
        ],
        [
         "30",
         "66.9",
         "65.9"
        ],
        [
         "31",
         "66.6",
         "65.9"
        ],
        [
         "32",
         "66.5",
         "66.5"
        ],
        [
         "33",
         "67.9",
         "65.8"
        ],
        [
         "34",
         "68.3",
         "66.3"
        ],
        [
         "35",
         "67.7",
         "66.1"
        ],
        [
         "36",
         "68.5",
         "66.3"
        ],
        [
         "37",
         "69.4",
         "66.3"
        ],
        [
         "38",
         "71.8",
         "66.4"
        ],
        [
         "39",
         "62.4",
         "67.2"
        ],
        [
         "40",
         "64.5",
         "67.5"
        ],
        [
         "41",
         "64.5",
         "67.0"
        ],
        [
         "42",
         "63.9",
         "66.8"
        ],
        [
         "43",
         "65.4",
         "67.0"
        ],
        [
         "44",
         "65.0",
         "66.8"
        ],
        [
         "45",
         "65.7",
         "69.3"
        ],
        [
         "46",
         "68.7",
         "69.1"
        ],
        [
         "47",
         "66.5",
         "61.7"
        ],
        [
         "48",
         "64.9",
         "65.7"
        ],
        [
         "49",
         "69.6",
         "69.0"
        ]
       ],
       "shape": {
        "columns": 2,
        "rows": 1078
       }
      },
      "text/html": [
       "<div>\n",
       "<style scoped>\n",
       "    .dataframe tbody tr th:only-of-type {\n",
       "        vertical-align: middle;\n",
       "    }\n",
       "\n",
       "    .dataframe tbody tr th {\n",
       "        vertical-align: top;\n",
       "    }\n",
       "\n",
       "    .dataframe thead th {\n",
       "        text-align: right;\n",
       "    }\n",
       "</style>\n",
       "<table border=\"1\" class=\"dataframe\">\n",
       "  <thead>\n",
       "    <tr style=\"text-align: right;\">\n",
       "      <th></th>\n",
       "      <th>Father</th>\n",
       "      <th>Son</th>\n",
       "    </tr>\n",
       "  </thead>\n",
       "  <tbody>\n",
       "    <tr>\n",
       "      <th>0</th>\n",
       "      <td>65.0</td>\n",
       "      <td>59.8</td>\n",
       "    </tr>\n",
       "    <tr>\n",
       "      <th>1</th>\n",
       "      <td>63.3</td>\n",
       "      <td>63.2</td>\n",
       "    </tr>\n",
       "    <tr>\n",
       "      <th>2</th>\n",
       "      <td>65.0</td>\n",
       "      <td>63.3</td>\n",
       "    </tr>\n",
       "    <tr>\n",
       "      <th>3</th>\n",
       "      <td>65.8</td>\n",
       "      <td>62.8</td>\n",
       "    </tr>\n",
       "    <tr>\n",
       "      <th>4</th>\n",
       "      <td>61.1</td>\n",
       "      <td>64.3</td>\n",
       "    </tr>\n",
       "    <tr>\n",
       "      <th>...</th>\n",
       "      <td>...</td>\n",
       "      <td>...</td>\n",
       "    </tr>\n",
       "    <tr>\n",
       "      <th>1073</th>\n",
       "      <td>67.0</td>\n",
       "      <td>70.8</td>\n",
       "    </tr>\n",
       "    <tr>\n",
       "      <th>1074</th>\n",
       "      <td>71.3</td>\n",
       "      <td>68.3</td>\n",
       "    </tr>\n",
       "    <tr>\n",
       "      <th>1075</th>\n",
       "      <td>71.8</td>\n",
       "      <td>69.3</td>\n",
       "    </tr>\n",
       "    <tr>\n",
       "      <th>1076</th>\n",
       "      <td>70.7</td>\n",
       "      <td>69.3</td>\n",
       "    </tr>\n",
       "    <tr>\n",
       "      <th>1077</th>\n",
       "      <td>70.3</td>\n",
       "      <td>67.0</td>\n",
       "    </tr>\n",
       "  </tbody>\n",
       "</table>\n",
       "<p>1078 rows × 2 columns</p>\n",
       "</div>"
      ],
      "text/plain": [
       "      Father   Son\n",
       "0       65.0  59.8\n",
       "1       63.3  63.2\n",
       "2       65.0  63.3\n",
       "3       65.8  62.8\n",
       "4       61.1  64.3\n",
       "...      ...   ...\n",
       "1073    67.0  70.8\n",
       "1074    71.3  68.3\n",
       "1075    71.8  69.3\n",
       "1076    70.7  69.3\n",
       "1077    70.3  67.0\n",
       "\n",
       "[1078 rows x 2 columns]"
      ]
     },
     "execution_count": 19,
     "metadata": {},
     "output_type": "execute_result"
    }
   ],
   "source": [
    "import seaborn as sns\n",
    "import pandas as pd\n",
    "df=pd.read_csv('FatherSonHeight.csv')\n",
    "df"
   ]
  },
  {
   "cell_type": "code",
   "execution_count": null,
   "metadata": {},
   "outputs": [],
   "source": []
  },
  {
   "cell_type": "code",
   "execution_count": 20,
   "metadata": {},
   "outputs": [
    {
     "data": {
      "text/plain": [
       "<Axes: ylabel='Father'>"
      ]
     },
     "execution_count": 20,
     "metadata": {},
     "output_type": "execute_result"
    },
    {
     "data": {
      "image/png": "[encoded data removed]",
      "text/plain": [
       "<Figure size 640x480 with 1 Axes>"
      ]
     },
     "metadata": {},
     "output_type": "display_data"
    }
   ],
   "source": [
    "sns.boxplot(y='Father',data=df)"
   ]
  },
  {
   "cell_type": "code",
   "execution_count": 21,
   "metadata": {},
   "outputs": [
    {
     "data": {
      "image/png": "[encoded data removed]",
      "text/plain": [
       "<Figure size 640x480 with 1 Axes>"
      ]
     },
     "metadata": {},
     "output_type": "display_data"
    },
    {
     "data": {
      "image/png": "[encoded data removed]",
      "text/plain": [
       "<Figure size 640x480 with 1 Axes>"
      ]
     },
     "metadata": {},
     "output_type": "display_data"
    }
   ],
   "source": [
    "import matplotlib.pyplot as plt\n",
    "def removal_box_plot(df,column,threshold): #Arguments\n",
    "    sns.boxplot(df[column]) #df['Father']  #sns.boxplot(df['total_bill])\n",
    "    plt.title(f'Original Box Plot of {column}') #40\n",
    "    plt.show()\n",
    "    removed_outliers=df[df[column]<=threshold]\n",
    "\n",
    "    sns.boxplot(removed_outliers[column])\n",
    "    plt.title(f'Box Plot Without Outliers of {column}')\n",
    "    plt.show()\n",
    "    return removed_outliers\n",
    "\n",
    "threshold_value=75\n",
    "no_outliers=removal_box_plot(df,'Father',threshold_value)"
   ]
  },
  {
   "cell_type": "code",
   "execution_count": 22,
   "metadata": {},
   "outputs": [
    {
     "name": "stdout",
     "output_type": "stream",
     "text": [
      "3.799999999999997\n"
     ]
    }
   ],
   "source": [
    "import numpy as np\n",
    "Q1=np.percentile(df['Father'],25,method='midpoint') #Q1\n",
    "Q3=np.percentile(df['Father'],75,method='midpoint') #Q3\n",
    "IQR=Q3-Q1\n",
    "print(IQR)"
   ]
  },
  {
   "cell_type": "code",
   "execution_count": 23,
   "metadata": {},
   "outputs": [
    {
     "name": "stdout",
     "output_type": "stream",
     "text": [
      "Upper Bound:  75.29999999999998\n",
      "1\n",
      "Lower Bound:  60.1\n",
      "5\n"
     ]
    }
   ],
   "source": [
    "upper=Q3+1.5*IQR\n",
    "upper_array=np.array(df['Father']>=upper) #[1,2,3,4]\n",
    "print(\"Upper Bound: \",upper)\n",
    "print(upper_array.sum())\n",
    "\n",
    "#Below Lower Bound\n",
    "lower=Q1-1.5*IQR\n",
    "lower_array=np.array(df['Father']<=lower)\n",
    "print('Lower Bound: ',lower)\n",
    "print(lower_array.sum())"
   ]
  },
  {
   "cell_type": "code",
   "execution_count": null,
   "metadata": {},
   "outputs": [],
   "source": [
    "                                                                                                                                                                                                                                                                                          "
   ]
  }
 ],
 "metadata": {
  "kernelspec": {
   "display_name": "Python 3",
   "language": "python",
   "name": "python3"
  },
  "language_info": {
   "codemirror_mode": {
    "name": "ipython",
    "version": 3
   },
   "file_extension": ".py",
   "mimetype": "text/x-python",
   "name": "python",
   "nbconvert_exporter": "python",
   "pygments_lexer": "ipython3",
   "version": "3.13.0"
  }
 },
 "nbformat": 4,
 "nbformat_minor": 2
}
